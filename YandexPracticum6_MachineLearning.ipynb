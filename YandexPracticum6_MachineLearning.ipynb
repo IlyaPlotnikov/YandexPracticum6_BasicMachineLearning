{
 "cells": [
  {
   "cell_type": "markdown",
   "metadata": {},
   "source": [
    "# Рекомендация тарифов"
   ]
  },
  {
   "cell_type": "markdown",
   "metadata": {},
   "source": [
    "В вашем распоряжении данные о поведении клиентов, которые уже перешли на эти тарифы (из проекта курса «Статистический анализ данных»). Нужно построить модель для задачи классификации, которая выберет подходящий тариф. Предобработка данных не понадобится — вы её уже сделали.\n",
    "\n",
    "Постройте модель с максимально большим значением *accuracy*. Чтобы сдать проект успешно, нужно довести долю правильных ответов по крайней мере до 0.75. Проверьте *accuracy* на тестовой выборке самостоятельно."
   ]
  },
  {
   "cell_type": "markdown",
   "metadata": {},
   "source": [
    "## Откройте и изучите файл"
   ]
  },
  {
   "cell_type": "code",
   "execution_count": 1,
   "metadata": {},
   "outputs": [
    {
     "name": "stdout",
     "output_type": "stream",
     "text": [
      "<class 'pandas.core.frame.DataFrame'>\n",
      "RangeIndex: 3214 entries, 0 to 3213\n",
      "Data columns (total 5 columns):\n",
      " #   Column    Non-Null Count  Dtype  \n",
      "---  ------    --------------  -----  \n",
      " 0   calls     3214 non-null   float64\n",
      " 1   minutes   3214 non-null   float64\n",
      " 2   messages  3214 non-null   float64\n",
      " 3   mb_used   3214 non-null   float64\n",
      " 4   is_ultra  3214 non-null   int64  \n",
      "dtypes: float64(4), int64(1)\n",
      "memory usage: 125.7 KB\n"
     ]
    }
   ],
   "source": [
    "import pandas as pd\n",
    "from sklearn.model_selection import train_test_split\n",
    "import numpy as np\n",
    "import warnings\n",
    "from sklearn.linear_model import LogisticRegression \n",
    "from sklearn import tree\n",
    "from sklearn.metrics import accuracy_score\n",
    "\n",
    "warnings.filterwarnings('ignore')\n",
    "\n",
    "df=pd.read_csv('/datasets/users_behavior.csv')\n",
    "df.info()"
   ]
  },
  {
   "cell_type": "code",
   "execution_count": 2,
   "metadata": {},
   "outputs": [
    {
     "data": {
      "text/html": [
       "<div>\n",
       "<style scoped>\n",
       "    .dataframe tbody tr th:only-of-type {\n",
       "        vertical-align: middle;\n",
       "    }\n",
       "\n",
       "    .dataframe tbody tr th {\n",
       "        vertical-align: top;\n",
       "    }\n",
       "\n",
       "    .dataframe thead th {\n",
       "        text-align: right;\n",
       "    }\n",
       "</style>\n",
       "<table border=\"1\" class=\"dataframe\">\n",
       "  <thead>\n",
       "    <tr style=\"text-align: right;\">\n",
       "      <th></th>\n",
       "      <th>calls</th>\n",
       "      <th>minutes</th>\n",
       "      <th>messages</th>\n",
       "      <th>mb_used</th>\n",
       "      <th>is_ultra</th>\n",
       "    </tr>\n",
       "  </thead>\n",
       "  <tbody>\n",
       "    <tr>\n",
       "      <th>0</th>\n",
       "      <td>40.0</td>\n",
       "      <td>311.90</td>\n",
       "      <td>83.0</td>\n",
       "      <td>19915.42</td>\n",
       "      <td>0</td>\n",
       "    </tr>\n",
       "    <tr>\n",
       "      <th>1</th>\n",
       "      <td>85.0</td>\n",
       "      <td>516.75</td>\n",
       "      <td>56.0</td>\n",
       "      <td>22696.96</td>\n",
       "      <td>0</td>\n",
       "    </tr>\n",
       "    <tr>\n",
       "      <th>2</th>\n",
       "      <td>77.0</td>\n",
       "      <td>467.66</td>\n",
       "      <td>86.0</td>\n",
       "      <td>21060.45</td>\n",
       "      <td>0</td>\n",
       "    </tr>\n",
       "    <tr>\n",
       "      <th>3</th>\n",
       "      <td>106.0</td>\n",
       "      <td>745.53</td>\n",
       "      <td>81.0</td>\n",
       "      <td>8437.39</td>\n",
       "      <td>1</td>\n",
       "    </tr>\n",
       "    <tr>\n",
       "      <th>4</th>\n",
       "      <td>66.0</td>\n",
       "      <td>418.74</td>\n",
       "      <td>1.0</td>\n",
       "      <td>14502.75</td>\n",
       "      <td>0</td>\n",
       "    </tr>\n",
       "  </tbody>\n",
       "</table>\n",
       "</div>"
      ],
      "text/plain": [
       "   calls  minutes  messages   mb_used  is_ultra\n",
       "0   40.0   311.90      83.0  19915.42         0\n",
       "1   85.0   516.75      56.0  22696.96         0\n",
       "2   77.0   467.66      86.0  21060.45         0\n",
       "3  106.0   745.53      81.0   8437.39         1\n",
       "4   66.0   418.74       1.0  14502.75         0"
      ]
     },
     "execution_count": 2,
     "metadata": {},
     "output_type": "execute_result"
    }
   ],
   "source": [
    "df.head()"
   ]
  },
  {
   "cell_type": "code",
   "execution_count": 3,
   "metadata": {},
   "outputs": [
    {
     "data": {
      "text/html": [
       "<div>\n",
       "<style scoped>\n",
       "    .dataframe tbody tr th:only-of-type {\n",
       "        vertical-align: middle;\n",
       "    }\n",
       "\n",
       "    .dataframe tbody tr th {\n",
       "        vertical-align: top;\n",
       "    }\n",
       "\n",
       "    .dataframe thead th {\n",
       "        text-align: right;\n",
       "    }\n",
       "</style>\n",
       "<table border=\"1\" class=\"dataframe\">\n",
       "  <thead>\n",
       "    <tr style=\"text-align: right;\">\n",
       "      <th></th>\n",
       "      <th>calls</th>\n",
       "      <th>minutes</th>\n",
       "      <th>messages</th>\n",
       "      <th>mb_used</th>\n",
       "      <th>is_ultra</th>\n",
       "    </tr>\n",
       "  </thead>\n",
       "  <tbody>\n",
       "    <tr>\n",
       "      <th>count</th>\n",
       "      <td>3214.000000</td>\n",
       "      <td>3214.000000</td>\n",
       "      <td>3214.000000</td>\n",
       "      <td>3214.000000</td>\n",
       "      <td>3214.000000</td>\n",
       "    </tr>\n",
       "    <tr>\n",
       "      <th>mean</th>\n",
       "      <td>63.038892</td>\n",
       "      <td>438.208787</td>\n",
       "      <td>38.281269</td>\n",
       "      <td>17207.673836</td>\n",
       "      <td>0.306472</td>\n",
       "    </tr>\n",
       "    <tr>\n",
       "      <th>std</th>\n",
       "      <td>33.236368</td>\n",
       "      <td>234.569872</td>\n",
       "      <td>36.148326</td>\n",
       "      <td>7570.968246</td>\n",
       "      <td>0.461100</td>\n",
       "    </tr>\n",
       "    <tr>\n",
       "      <th>min</th>\n",
       "      <td>0.000000</td>\n",
       "      <td>0.000000</td>\n",
       "      <td>0.000000</td>\n",
       "      <td>0.000000</td>\n",
       "      <td>0.000000</td>\n",
       "    </tr>\n",
       "    <tr>\n",
       "      <th>25%</th>\n",
       "      <td>40.000000</td>\n",
       "      <td>274.575000</td>\n",
       "      <td>9.000000</td>\n",
       "      <td>12491.902500</td>\n",
       "      <td>0.000000</td>\n",
       "    </tr>\n",
       "    <tr>\n",
       "      <th>50%</th>\n",
       "      <td>62.000000</td>\n",
       "      <td>430.600000</td>\n",
       "      <td>30.000000</td>\n",
       "      <td>16943.235000</td>\n",
       "      <td>0.000000</td>\n",
       "    </tr>\n",
       "    <tr>\n",
       "      <th>75%</th>\n",
       "      <td>82.000000</td>\n",
       "      <td>571.927500</td>\n",
       "      <td>57.000000</td>\n",
       "      <td>21424.700000</td>\n",
       "      <td>1.000000</td>\n",
       "    </tr>\n",
       "    <tr>\n",
       "      <th>max</th>\n",
       "      <td>244.000000</td>\n",
       "      <td>1632.060000</td>\n",
       "      <td>224.000000</td>\n",
       "      <td>49745.730000</td>\n",
       "      <td>1.000000</td>\n",
       "    </tr>\n",
       "  </tbody>\n",
       "</table>\n",
       "</div>"
      ],
      "text/plain": [
       "             calls      minutes     messages       mb_used     is_ultra\n",
       "count  3214.000000  3214.000000  3214.000000   3214.000000  3214.000000\n",
       "mean     63.038892   438.208787    38.281269  17207.673836     0.306472\n",
       "std      33.236368   234.569872    36.148326   7570.968246     0.461100\n",
       "min       0.000000     0.000000     0.000000      0.000000     0.000000\n",
       "25%      40.000000   274.575000     9.000000  12491.902500     0.000000\n",
       "50%      62.000000   430.600000    30.000000  16943.235000     0.000000\n",
       "75%      82.000000   571.927500    57.000000  21424.700000     1.000000\n",
       "max     244.000000  1632.060000   224.000000  49745.730000     1.000000"
      ]
     },
     "execution_count": 3,
     "metadata": {},
     "output_type": "execute_result"
    }
   ],
   "source": [
    "df.describe()"
   ]
  },
  {
   "cell_type": "markdown",
   "metadata": {},
   "source": [
    "<div style=\"background: #B0E0E6; padding: 5px; border: 1px solid SteelBlue; border-radius: 5px;\">\n",
    "    <font color='4682B4'><u><b>КОММЕНТАРИЙ СТУДЕНТА</b></u></font>\n",
    "    <br />\n",
    "    <font color='4682B4'>Вывод: Получен датафрейм, без пропусков и прочих аномалий в данных. Все столбцы имеют нужный тип данных. Можно приступать к построению модели машинного обучения</font>\n",
    "</div>"
   ]
  },
  {
   "cell_type": "markdown",
   "metadata": {},
   "source": [
    "## Разбейте данные на выборки"
   ]
  },
  {
   "cell_type": "code",
   "execution_count": 4,
   "metadata": {},
   "outputs": [],
   "source": [
    "features = df.drop(['is_ultra'], axis=1)\n",
    "target = df['is_ultra'] "
   ]
  },
  {
   "cell_type": "code",
   "execution_count": 5,
   "metadata": {},
   "outputs": [],
   "source": [
    "features_train, features_test, target_train, target_test = train_test_split(features, target, \n",
    "                                                    train_size=0.6, \n",
    "                                                    random_state=12345)"
   ]
  },
  {
   "cell_type": "code",
   "execution_count": 6,
   "metadata": {},
   "outputs": [
    {
     "name": "stdout",
     "output_type": "stream",
     "text": [
      "Количество строк в y_test по классам: [454 189]\n",
      "Количество строк в y_val по классам: [440 203]\n"
     ]
    }
   ],
   "source": [
    "features_test, features_valid, target_test, target_valid = train_test_split(features_test, target_test, \n",
    "                                                    train_size=0.5, \n",
    "                                                    random_state=12345,\n",
    "                                                    )\n",
    "print(f\"Количество строк в y_test по классам: {np.bincount(target_test)}\")\n",
    "print(f\"Количество строк в y_val по классам: {np.bincount(target_valid)}\")"
   ]
  },
  {
   "cell_type": "markdown",
   "metadata": {},
   "source": [
    "<div style=\"background: #B0E0E6; padding: 5px; border: 1px solid SteelBlue; border-radius: 5px;\">\n",
    "    <font color='4682B4'><u><b>КОММЕНТАРИЙ СТУДЕНТА</b></u></font>\n",
    "    <br />\n",
    "    <font color='4682B4'>В таком случае, делим сначала на 60(трейнинг)/40(тестинг), а затем валидационную и тестовую делим 50/50.</font>\n",
    "</div>"
   ]
  },
  {
   "cell_type": "markdown",
   "metadata": {},
   "source": [
    "## Исследуйте модели"
   ]
  },
  {
   "cell_type": "markdown",
   "metadata": {},
   "source": [
    "<div class=\"alert alert-info\">\n",
    " <font color='Blue'>\n",
    "     Проверим логистическую регрессию с разными solver"
   ]
  },
  {
   "cell_type": "code",
   "execution_count": 7,
   "metadata": {},
   "outputs": [
    {
     "data": {
      "text/plain": [
       "0.6842923794712286"
      ]
     },
     "execution_count": 7,
     "metadata": {},
     "output_type": "execute_result"
    }
   ],
   "source": [
    "model = LogisticRegression(random_state=12345, solver='lbfgs', max_iter=100) \n",
    "model.fit(features_train, target_train) \n",
    "model.score(features_valid, target_valid) "
   ]
  },
  {
   "cell_type": "code",
   "execution_count": 8,
   "metadata": {},
   "outputs": [
    {
     "data": {
      "text/plain": [
       "0.6842923794712286"
      ]
     },
     "execution_count": 8,
     "metadata": {},
     "output_type": "execute_result"
    }
   ],
   "source": [
    "model = LogisticRegression(random_state=12345, solver='sag', max_iter=1000) \n",
    "model.fit(features_train, target_train) \n",
    "model.score(features_valid, target_valid) \n"
   ]
  },
  {
   "cell_type": "code",
   "execution_count": 9,
   "metadata": {},
   "outputs": [
    {
     "data": {
      "text/plain": [
       "0.687402799377916"
      ]
     },
     "execution_count": 9,
     "metadata": {},
     "output_type": "execute_result"
    }
   ],
   "source": [
    "model = LogisticRegression(random_state=12345, solver='saga', max_iter=10000) \n",
    "model.fit(features_train, target_train) \n",
    "model.score(features_valid, target_valid) \n"
   ]
  },
  {
   "cell_type": "code",
   "execution_count": 10,
   "metadata": {},
   "outputs": [
    {
     "data": {
      "text/plain": [
       "0.7387247278382582"
      ]
     },
     "execution_count": 10,
     "metadata": {},
     "output_type": "execute_result"
    }
   ],
   "source": [
    "model = LogisticRegression(random_state=12345, solver='newton-cg', max_iter=10000) \n",
    "model.fit(features_train, target_train) \n",
    "model.score(features_valid, target_valid) \n"
   ]
  },
  {
   "cell_type": "code",
   "execution_count": 11,
   "metadata": {},
   "outputs": [
    {
     "data": {
      "text/plain": [
       "0.6889580093312597"
      ]
     },
     "execution_count": 11,
     "metadata": {},
     "output_type": "execute_result"
    }
   ],
   "source": [
    "model = LogisticRegression(random_state=12345, solver='liblinear', max_iter=1000) \n",
    "model.fit(features_train, target_train) \n",
    "model.score(features_valid, target_valid) \n"
   ]
  },
  {
   "cell_type": "markdown",
   "metadata": {},
   "source": [
    "<div class=\"alert alert-info\">\n",
    " <font color='Blue'>\n",
    "Так как lbfgs оказывается наиболее быстрым и точным методом решения, остановимся на нем и выведем classification_report"
   ]
  },
  {
   "cell_type": "markdown",
   "metadata": {},
   "source": [
    "<div style=\"background: #B0E0E6; padding: 5px; border: 1px solid SteelBlue; border-radius: 5px;\">\n",
    "    <font color='4682B4'><u><b>КОММЕНТАРИЙ СТУДЕНТА</b></u></font>\n",
    "    <br />\n",
    "    <font color='4682B4'>Попробовал перенести импорты в самое начало. Добавил цикл для логистический регрессии, получил 100 итераций методом Ньютона и точность 0,73</font>\n",
    "</div>"
   ]
  },
  {
   "cell_type": "code",
   "execution_count": 12,
   "metadata": {},
   "outputs": [
    {
     "name": "stdout",
     "output_type": "stream",
     "text": [
      "100 0.7387247278382582 newton-cg\n"
     ]
    }
   ],
   "source": [
    "best_solver = None\n",
    "best_iter = 0\n",
    "best_lr_model = None\n",
    "best_result=0\n",
    "\n",
    "for solver in ['lbfgs', 'saga', 'newton-cg', 'liblinear']:\n",
    "    for m_iter in [100, 1000, 10000]:\n",
    "        model = LogisticRegression(random_state=12345, solver=solver, max_iter=m_iter) \n",
    "        model.fit(features_train, target_train)\n",
    "        result = model.score (features_valid, target_valid)\n",
    "        if result >best_result:\n",
    "                best_iter = m_iter\n",
    "                best_result = result\n",
    "                best_solver = solver\n",
    "print(best_iter, best_result, best_solver)"
   ]
  },
  {
   "cell_type": "markdown",
   "metadata": {},
   "source": [
    "<div class=\"alert alert-info\">\n",
    " <font color='Blue'>\n",
    "     Деревья решений"
   ]
  },
  {
   "cell_type": "code",
   "execution_count": 13,
   "metadata": {},
   "outputs": [
    {
     "name": "stdout",
     "output_type": "stream",
     "text": [
      "0.7822706065318819 5\n"
     ]
    }
   ],
   "source": [
    "best_result=0\n",
    "best_depth = 0\n",
    "best_model = None\n",
    "\n",
    "for depth in range(1, 6):\n",
    "    model = tree.DecisionTreeClassifier(random_state=21,max_depth=depth)\n",
    "    model.fit(features_train, target_train)\n",
    "    result=model.score (features_valid, target_valid)\n",
    "    if result >best_result:\n",
    "        best_model = model\n",
    "        best_result = result\n",
    "        best_depth = depth\n",
    "print(best_result, best_depth)"
   ]
  },
  {
   "cell_type": "markdown",
   "metadata": {},
   "source": [
    "<div class=\"alert alert-info\">\n",
    " <font color='Blue'>\n",
    "     В результате, дерево решений оказывается наилучшим выбором."
   ]
  },
  {
   "cell_type": "markdown",
   "metadata": {},
   "source": [
    "## Проверьте модель на тестовой выборке"
   ]
  },
  {
   "cell_type": "markdown",
   "metadata": {},
   "source": [
    "Применим функцию score к лучшей модели(дерево решений с глубиной=3)"
   ]
  },
  {
   "cell_type": "code",
   "execution_count": 14,
   "metadata": {},
   "outputs": [
    {
     "name": "stdout",
     "output_type": "stream",
     "text": [
      "0.7791601866251944\n"
     ]
    }
   ],
   "source": [
    "print(best_model.score(features_test,target_test))"
   ]
  },
  {
   "cell_type": "markdown",
   "metadata": {},
   "source": [
    "<div class=\"alert alert-info\">\n",
    " <font color='Blue'>\n",
    "Возможно, другое процентное соотношение выборок дало бы более оптимальные результаты"
   ]
  },
  {
   "cell_type": "markdown",
   "metadata": {},
   "source": [
    "## (бонус) Проверьте модели на адекватность"
   ]
  },
  {
   "cell_type": "markdown",
   "metadata": {},
   "source": [
    "<div class=\"alert alert-info\">\n",
    " <font color='Blue'>\n",
    "     Попробуем предсказывать всегда только 0, и сравним результаты с полученной моделью дерева решений.\n",
    "     Для этого делаю срез - выбираю только те значения, исходной выборки, в которых is_ultra равняется 0."
   ]
  },
  {
   "cell_type": "code",
   "execution_count": 15,
   "metadata": {},
   "outputs": [],
   "source": [
    "df_only_zeros=df.query('is_ultra==0')\n",
    "df_only_zeros.head()\n",
    "model_always_zeros=tree.DecisionTreeClassifier(random_state=21,max_depth=3)\n",
    "features_only_zeros = df_only_zeros.drop(['is_ultra'], axis=1)\n",
    "target_only_zeros = df_only_zeros['is_ultra'] "
   ]
  },
  {
   "cell_type": "code",
   "execution_count": 16,
   "metadata": {},
   "outputs": [],
   "source": [
    "features_train_zeros, features_test_zeros, target_train_zeros, target_test_zeros = train_test_split(features_only_zeros, target_only_zeros, \n",
    "                                                    train_size=0.25, \n",
    "                                                    random_state=12345)"
   ]
  },
  {
   "cell_type": "markdown",
   "metadata": {},
   "source": [
    "<div class=\"alert alert-info\">\n",
    " <font color='Blue'>\n",
    "     Обучаем модель на одних нулях(чтобы она всегда предсказывала ноль)"
   ]
  },
  {
   "cell_type": "code",
   "execution_count": 17,
   "metadata": {},
   "outputs": [
    {
     "data": {
      "text/plain": [
       "DecisionTreeClassifier(max_depth=3, random_state=21)"
      ]
     },
     "execution_count": 17,
     "metadata": {},
     "output_type": "execute_result"
    }
   ],
   "source": [
    "model_always_zeros.fit(features_train_zeros, target_train_zeros)"
   ]
  },
  {
   "cell_type": "markdown",
   "metadata": {},
   "source": [
    "<div class=\"alert alert-info\">\n",
    " <font color='Blue'>\n",
    "     В качестве тестовой выборке берется та же самая, что и была для исходной модели"
   ]
  },
  {
   "cell_type": "code",
   "execution_count": 18,
   "metadata": {},
   "outputs": [
    {
     "data": {
      "text/plain": [
       "0.7060653188180405"
      ]
     },
     "execution_count": 18,
     "metadata": {},
     "output_type": "execute_result"
    }
   ],
   "source": [
    "model_always_zeros.score(features_test,target_test)"
   ]
  },
  {
   "cell_type": "markdown",
   "metadata": {},
   "source": [
    "<div class=\"alert alert-info\">\n",
    " <font color='Blue'>\n",
    "     Вывод: Точность хуже на 10%"
   ]
  },
  {
   "cell_type": "markdown",
   "metadata": {},
   "source": [
    "<div style=\"background: #B0E0E6; padding: 5px; border: 1px solid SteelBlue; border-radius: 5px;\">\n",
    "    <font color='4682B4'><u><b>КОММЕНТАРИЙ СТУДЕНТА</b></u></font>\n",
    "    <br />\n",
    "    <font color='4682B4'>В ходе выполнения этого задания, оказалось, что модель, ставящая единицы выдает точность 16%, когда модель, дающая лишь нули - 83%, что лучше. Но это происходит из-за того, что у нас попросту 83% нули и 16% единицы. Возможно, я неверно понял задание. Второй подход:\n",
    "    Если считать именно метрику accuracy_score(target_test,dummy_prediction) из sklearn, то ее точность 70%. Это на 8% уступает полученной выше модели</font>\n",
    "</div>"
   ]
  },
  {
   "cell_type": "code",
   "execution_count": 19,
   "metadata": {},
   "outputs": [
    {
     "name": "stdout",
     "output_type": "stream",
     "text": [
      "643\n"
     ]
    }
   ],
   "source": [
    "size=len(target_test)\n",
    "print(size)\n",
    "dummy_prediction=np.zeros(size)"
   ]
  },
  {
   "cell_type": "code",
   "execution_count": 20,
   "metadata": {},
   "outputs": [],
   "source": [
    "dummy_prediction_ones=[]\n",
    "for i in range(len(target_test)):\n",
    "    dummy_prediction_ones.append(1)"
   ]
  },
  {
   "cell_type": "code",
   "execution_count": 21,
   "metadata": {},
   "outputs": [
    {
     "data": {
      "text/plain": [
       "0.16640746500777606"
      ]
     },
     "execution_count": 21,
     "metadata": {},
     "output_type": "execute_result"
    }
   ],
   "source": [
    "best_model.score(features_test,dummy_prediction_ones)"
   ]
  },
  {
   "cell_type": "markdown",
   "metadata": {},
   "source": [
    "<div style=\"background: #B0E0E6; padding: 5px; border: 1px solid SteelBlue; border-radius: 5px;\">\n",
    "    <font color='4682B4'><u><b>КОММЕНТАРИЙ СТУДЕНТА</b></u></font>\n",
    "    <br />\n",
    "    <font color='4682B4'>accuracy_score:</font>\n",
    "</div>"
   ]
  },
  {
   "cell_type": "code",
   "execution_count": 22,
   "metadata": {},
   "outputs": [
    {
     "data": {
      "text/plain": [
       "0.7060653188180405"
      ]
     },
     "execution_count": 22,
     "metadata": {},
     "output_type": "execute_result"
    }
   ],
   "source": [
    "accuracy_score(target_test,dummy_prediction)"
   ]
  },
  {
   "cell_type": "markdown",
   "metadata": {},
   "source": [
    "## Вывод"
   ]
  },
  {
   "cell_type": "markdown",
   "metadata": {},
   "source": [
    "В ходе проделанной работы была построена модель для совета пользователям тарифа(то есть решалась задача Классификации). Модель работает с точность 78% и прошла проверку на адекватность. \n",
    "\n",
    "Была протестирована логистическая регрессия и дерево решений, были перепробованы различные варианты гиперпараметров. Конкретно в этой задаче Дерево Решений с глубиной 5 оказалось лучшим решением."
   ]
  },
  {
   "cell_type": "markdown",
   "metadata": {},
   "source": [
    "## Чек-лист готовности проекта"
   ]
  },
  {
   "cell_type": "markdown",
   "metadata": {},
   "source": [
    "Поставьте 'x' в выполненных пунктах. Далее нажмите Shift+Enter."
   ]
  },
  {
   "cell_type": "markdown",
   "metadata": {},
   "source": [
    "- [x] Jupyter Notebook открыт\n",
    "- [x] Весь код исполняется без ошибок\n",
    "- [x] Ячейки с кодом расположены в порядке исполнения\n",
    "- [x] Выполнено задание 1: данные загружены и изучены\n",
    "- [x] Выполнено задание 2: данные разбиты на три выборки\n",
    "- [x] Выполнено задание 3: проведено исследование моделей\n",
    "    - [x] Рассмотрено больше одной модели\n",
    "    - [x] Рассмотрено хотя бы 3 значения гипепараметров для какой-нибудь модели\n",
    "    - [x] Написаны выводы по результатам исследования\n",
    "- [x] Выполнено задание 3: Проведено тестирование\n",
    "- [x] Удалось достичь accuracy не меньше 0.75\n"
   ]
  },
  {
   "cell_type": "code",
   "execution_count": null,
   "metadata": {},
   "outputs": [],
   "source": []
  }
 ],
 "metadata": {
  "ExecuteTimeLog": [
   {
    "duration": 523,
    "start_time": "2022-05-28T08:31:49.464Z"
   },
   {
    "duration": 19,
    "start_time": "2022-05-28T08:31:56.748Z"
   },
   {
    "duration": 78,
    "start_time": "2022-05-28T09:01:27.311Z"
   },
   {
    "duration": 4,
    "start_time": "2022-05-28T09:02:11.899Z"
   },
   {
    "duration": 4,
    "start_time": "2022-05-28T09:02:23.863Z"
   },
   {
    "duration": 8,
    "start_time": "2022-05-28T09:04:11.619Z"
   },
   {
    "duration": 864,
    "start_time": "2022-05-28T09:04:26.201Z"
   },
   {
    "duration": 10,
    "start_time": "2022-05-28T09:04:27.066Z"
   },
   {
    "duration": 5,
    "start_time": "2022-05-28T09:04:27.077Z"
   },
   {
    "duration": 4,
    "start_time": "2022-05-28T09:04:27.219Z"
   },
   {
    "duration": 38,
    "start_time": "2022-05-28T09:07:24.368Z"
   },
   {
    "duration": 9,
    "start_time": "2022-05-28T09:08:01.092Z"
   },
   {
    "duration": 5,
    "start_time": "2022-05-28T09:08:10.860Z"
   },
   {
    "duration": 35,
    "start_time": "2022-05-28T09:08:30.377Z"
   },
   {
    "duration": 11,
    "start_time": "2022-05-28T09:08:32.002Z"
   },
   {
    "duration": 4,
    "start_time": "2022-05-28T09:08:32.395Z"
   },
   {
    "duration": 6,
    "start_time": "2022-05-28T09:08:32.655Z"
   },
   {
    "duration": 12,
    "start_time": "2022-05-28T09:08:32.916Z"
   },
   {
    "duration": 7,
    "start_time": "2022-05-28T09:08:51.545Z"
   },
   {
    "duration": 9,
    "start_time": "2022-05-28T09:10:32.112Z"
   },
   {
    "duration": 100,
    "start_time": "2022-05-28T09:10:40.066Z"
   },
   {
    "duration": 98,
    "start_time": "2022-05-28T09:10:54.790Z"
   },
   {
    "duration": 6,
    "start_time": "2022-05-28T09:11:09.778Z"
   },
   {
    "duration": 6,
    "start_time": "2022-05-28T09:11:09.995Z"
   },
   {
    "duration": 98,
    "start_time": "2022-05-28T09:11:10.989Z"
   },
   {
    "duration": 12,
    "start_time": "2022-05-28T09:11:21.368Z"
   },
   {
    "duration": 4,
    "start_time": "2022-05-28T09:11:29.301Z"
   },
   {
    "duration": 4,
    "start_time": "2022-05-28T09:11:43.005Z"
   },
   {
    "duration": 33,
    "start_time": "2022-05-28T09:18:38.443Z"
   },
   {
    "duration": 13,
    "start_time": "2022-05-28T09:21:14.047Z"
   },
   {
    "duration": 37,
    "start_time": "2022-05-28T09:21:21.055Z"
   },
   {
    "duration": 957,
    "start_time": "2022-06-13T17:06:24.335Z"
   },
   {
    "duration": 292,
    "start_time": "2022-06-13T17:06:28.968Z"
   },
   {
    "duration": 19,
    "start_time": "2022-06-13T17:06:29.262Z"
   },
   {
    "duration": 4,
    "start_time": "2022-06-13T17:06:29.534Z"
   },
   {
    "duration": 5,
    "start_time": "2022-06-13T17:06:29.745Z"
   },
   {
    "duration": 31,
    "start_time": "2022-06-13T17:06:29.951Z"
   },
   {
    "duration": 36,
    "start_time": "2022-06-13T17:06:31.263Z"
   },
   {
    "duration": 469,
    "start_time": "2022-06-13T17:10:53.356Z"
   },
   {
    "duration": 531,
    "start_time": "2022-06-13T17:11:01.897Z"
   },
   {
    "duration": 279,
    "start_time": "2022-06-13T17:12:24.846Z"
   },
   {
    "duration": 309,
    "start_time": "2022-06-13T17:12:44.063Z"
   },
   {
    "duration": 2625,
    "start_time": "2022-06-13T17:13:03.004Z"
   },
   {
    "duration": 18,
    "start_time": "2022-06-13T17:14:06.022Z"
   },
   {
    "duration": 478,
    "start_time": "2022-06-13T17:14:29.054Z"
   },
   {
    "duration": 478,
    "start_time": "2022-06-13T17:14:33.575Z"
   },
   {
    "duration": 852,
    "start_time": "2022-06-13T17:14:36.924Z"
   },
   {
    "duration": 499,
    "start_time": "2022-06-13T17:14:39.779Z"
   },
   {
    "duration": 266,
    "start_time": "2022-06-13T17:14:43.320Z"
   },
   {
    "duration": 330,
    "start_time": "2022-06-13T17:14:48.195Z"
   },
   {
    "duration": 235,
    "start_time": "2022-06-13T17:14:51.900Z"
   },
   {
    "duration": 239,
    "start_time": "2022-06-13T17:14:54.891Z"
   },
   {
    "duration": 2316,
    "start_time": "2022-06-13T17:14:58.613Z"
   },
   {
    "duration": 19,
    "start_time": "2022-06-13T17:15:04.215Z"
   },
   {
    "duration": 18,
    "start_time": "2022-06-13T17:15:06.922Z"
   },
   {
    "duration": 18,
    "start_time": "2022-06-13T17:15:10.069Z"
   },
   {
    "duration": 35,
    "start_time": "2022-06-13T17:20:22.020Z"
   },
   {
    "duration": 10,
    "start_time": "2022-06-13T17:20:22.243Z"
   },
   {
    "duration": 4,
    "start_time": "2022-06-13T17:20:23.040Z"
   },
   {
    "duration": 7,
    "start_time": "2022-06-13T17:20:23.320Z"
   },
   {
    "duration": 12,
    "start_time": "2022-06-13T17:20:23.580Z"
   },
   {
    "duration": 7,
    "start_time": "2022-06-13T17:20:34.870Z"
   },
   {
    "duration": 9,
    "start_time": "2022-06-13T17:31:26.737Z"
   },
   {
    "duration": 567,
    "start_time": "2022-06-13T17:31:52.061Z"
   },
   {
    "duration": 387,
    "start_time": "2022-06-13T17:32:03.946Z"
   },
   {
    "duration": 305,
    "start_time": "2022-06-13T17:32:19.819Z"
   },
   {
    "duration": 15,
    "start_time": "2022-06-13T17:32:52.047Z"
   },
   {
    "duration": 22,
    "start_time": "2022-06-13T17:35:16.030Z"
   },
   {
    "duration": 33,
    "start_time": "2022-06-13T17:35:44.417Z"
   },
   {
    "duration": 75,
    "start_time": "2022-06-13T17:36:05.032Z"
   },
   {
    "duration": 370,
    "start_time": "2022-06-13T17:36:09.594Z"
   },
   {
    "duration": 89,
    "start_time": "2022-06-13T17:36:21.469Z"
   },
   {
    "duration": 81,
    "start_time": "2022-06-13T17:36:51.045Z"
   },
   {
    "duration": 14,
    "start_time": "2022-06-13T17:37:02.192Z"
   },
   {
    "duration": 42,
    "start_time": "2022-06-13T17:37:30.628Z"
   },
   {
    "duration": 13,
    "start_time": "2022-06-13T17:37:31.252Z"
   },
   {
    "duration": 35,
    "start_time": "2022-06-13T17:37:40.563Z"
   },
   {
    "duration": 30,
    "start_time": "2022-06-13T17:38:46.369Z"
   },
   {
    "duration": 34,
    "start_time": "2022-06-13T17:39:37.798Z"
   },
   {
    "duration": 47,
    "start_time": "2022-06-13T17:40:09.266Z"
   },
   {
    "duration": 27,
    "start_time": "2022-06-13T17:43:38.800Z"
   },
   {
    "duration": 24,
    "start_time": "2022-06-13T17:53:24.431Z"
   },
   {
    "duration": 24,
    "start_time": "2022-06-13T17:57:13.472Z"
   },
   {
    "duration": 31,
    "start_time": "2022-06-13T17:57:43.932Z"
   },
   {
    "duration": 25,
    "start_time": "2022-06-13T17:57:50.007Z"
   },
   {
    "duration": 928,
    "start_time": "2022-06-13T20:36:59.491Z"
   },
   {
    "duration": 236,
    "start_time": "2022-06-13T20:37:05.861Z"
   },
   {
    "duration": 14,
    "start_time": "2022-06-13T20:37:06.099Z"
   },
   {
    "duration": 4,
    "start_time": "2022-06-13T20:37:06.556Z"
   },
   {
    "duration": 4,
    "start_time": "2022-06-13T20:37:06.944Z"
   },
   {
    "duration": 6,
    "start_time": "2022-06-13T20:37:07.172Z"
   },
   {
    "duration": 37,
    "start_time": "2022-06-13T20:37:08.205Z"
   },
   {
    "duration": 80,
    "start_time": "2022-06-13T20:37:21.220Z"
   },
   {
    "duration": 396,
    "start_time": "2022-06-13T20:38:31.653Z"
   },
   {
    "duration": 95,
    "start_time": "2022-06-13T20:39:48.665Z"
   },
   {
    "duration": 402,
    "start_time": "2022-06-13T20:39:50.513Z"
   },
   {
    "duration": 13,
    "start_time": "2022-06-13T20:39:58.970Z"
   },
   {
    "duration": 38,
    "start_time": "2022-06-13T20:40:31.339Z"
   },
   {
    "duration": 24,
    "start_time": "2022-06-13T20:41:07.140Z"
   },
   {
    "duration": 9,
    "start_time": "2022-06-13T20:41:13.710Z"
   },
   {
    "duration": 19,
    "start_time": "2022-06-13T20:42:05.858Z"
   },
   {
    "duration": 24,
    "start_time": "2022-06-13T20:42:06.140Z"
   },
   {
    "duration": 24,
    "start_time": "2022-06-13T20:42:32.014Z"
   },
   {
    "duration": 32,
    "start_time": "2022-06-13T20:45:15.627Z"
   },
   {
    "duration": 6,
    "start_time": "2022-06-13T20:45:18.683Z"
   },
   {
    "duration": 34,
    "start_time": "2022-06-13T20:56:45.388Z"
   },
   {
    "duration": 32,
    "start_time": "2022-06-13T21:19:57.195Z"
   },
   {
    "duration": 37,
    "start_time": "2022-06-13T21:26:30.792Z"
   },
   {
    "duration": 7,
    "start_time": "2022-06-13T21:27:15.242Z"
   },
   {
    "duration": 16,
    "start_time": "2022-06-13T21:27:41.298Z"
   },
   {
    "duration": 6,
    "start_time": "2022-06-13T21:28:08.888Z"
   },
   {
    "duration": 8,
    "start_time": "2022-06-13T21:28:22.718Z"
   },
   {
    "duration": 7,
    "start_time": "2022-06-13T21:28:23.162Z"
   },
   {
    "duration": 5,
    "start_time": "2022-06-13T21:28:25.141Z"
   },
   {
    "duration": 7,
    "start_time": "2022-06-13T21:28:25.496Z"
   },
   {
    "duration": 6,
    "start_time": "2022-06-13T21:28:26.257Z"
   },
   {
    "duration": 6,
    "start_time": "2022-06-13T21:29:51.703Z"
   },
   {
    "duration": 17,
    "start_time": "2022-06-13T21:30:00.818Z"
   },
   {
    "duration": 11,
    "start_time": "2022-06-13T21:30:10.310Z"
   },
   {
    "duration": 6,
    "start_time": "2022-06-13T21:30:10.578Z"
   },
   {
    "duration": 7,
    "start_time": "2022-06-13T21:30:11.200Z"
   },
   {
    "duration": 8,
    "start_time": "2022-06-13T21:30:11.652Z"
   },
   {
    "duration": 7,
    "start_time": "2022-06-13T21:30:22.933Z"
   },
   {
    "duration": 5,
    "start_time": "2022-06-13T21:30:24.479Z"
   },
   {
    "duration": 9,
    "start_time": "2022-06-13T21:30:35.218Z"
   },
   {
    "duration": 10,
    "start_time": "2022-06-13T21:30:47.625Z"
   },
   {
    "duration": 7,
    "start_time": "2022-06-13T21:30:51.272Z"
   },
   {
    "duration": 8,
    "start_time": "2022-06-13T21:31:00.293Z"
   },
   {
    "duration": 6,
    "start_time": "2022-06-13T21:31:17.917Z"
   },
   {
    "duration": 28,
    "start_time": "2022-06-13T21:32:25.034Z"
   },
   {
    "duration": 26,
    "start_time": "2022-06-13T21:32:51.851Z"
   },
   {
    "duration": 45,
    "start_time": "2022-06-13T21:34:26.035Z"
   },
   {
    "duration": 1141,
    "start_time": "2022-06-14T03:28:37.541Z"
   },
   {
    "duration": 14,
    "start_time": "2022-06-14T03:28:38.684Z"
   },
   {
    "duration": 6,
    "start_time": "2022-06-14T03:28:38.700Z"
   },
   {
    "duration": 6,
    "start_time": "2022-06-14T03:28:38.707Z"
   },
   {
    "duration": 7,
    "start_time": "2022-06-14T03:28:38.715Z"
   },
   {
    "duration": 53,
    "start_time": "2022-06-14T03:28:38.723Z"
   },
   {
    "duration": 70,
    "start_time": "2022-06-14T03:28:38.779Z"
   },
   {
    "duration": 336,
    "start_time": "2022-06-14T03:28:38.851Z"
   },
   {
    "duration": 77,
    "start_time": "2022-06-14T03:28:39.189Z"
   },
   {
    "duration": 10,
    "start_time": "2022-06-14T03:28:39.269Z"
   },
   {
    "duration": 47,
    "start_time": "2022-06-14T03:28:39.281Z"
   },
   {
    "duration": 20,
    "start_time": "2022-06-14T03:28:39.329Z"
   },
   {
    "duration": 23,
    "start_time": "2022-06-14T03:28:39.350Z"
   },
   {
    "duration": 5,
    "start_time": "2022-06-14T03:28:39.374Z"
   },
   {
    "duration": 8,
    "start_time": "2022-06-14T03:28:39.380Z"
   },
   {
    "duration": 4,
    "start_time": "2022-06-14T03:28:39.389Z"
   },
   {
    "duration": 35,
    "start_time": "2022-06-14T03:28:39.394Z"
   },
   {
    "duration": 6,
    "start_time": "2022-06-14T03:28:39.431Z"
   },
   {
    "duration": 635,
    "start_time": "2022-06-14T03:51:14.191Z"
   },
   {
    "duration": 869,
    "start_time": "2022-06-14T03:51:53.434Z"
   },
   {
    "duration": 45,
    "start_time": "2022-06-18T09:04:27.448Z"
   },
   {
    "duration": 1121,
    "start_time": "2022-06-18T09:04:32.149Z"
   },
   {
    "duration": 16,
    "start_time": "2022-06-18T09:04:33.272Z"
   },
   {
    "duration": 13,
    "start_time": "2022-06-18T09:04:33.290Z"
   },
   {
    "duration": 5,
    "start_time": "2022-06-18T09:04:33.315Z"
   },
   {
    "duration": 6,
    "start_time": "2022-06-18T09:04:33.514Z"
   },
   {
    "duration": 6,
    "start_time": "2022-06-18T09:09:45.078Z"
   },
   {
    "duration": 7,
    "start_time": "2022-06-18T09:09:45.371Z"
   },
   {
    "duration": 5,
    "start_time": "2022-06-18T09:11:39.418Z"
   },
   {
    "duration": 5,
    "start_time": "2022-06-18T09:12:16.930Z"
   },
   {
    "duration": 6,
    "start_time": "2022-06-18T09:12:17.129Z"
   },
   {
    "duration": 23,
    "start_time": "2022-06-18T09:12:47.448Z"
   },
   {
    "duration": 34,
    "start_time": "2022-06-18T16:22:46.879Z"
   },
   {
    "duration": 20,
    "start_time": "2022-06-18T16:23:06.555Z"
   },
   {
    "duration": 121,
    "start_time": "2022-06-18T16:23:40.475Z"
   },
   {
    "duration": 9,
    "start_time": "2022-06-18T16:23:40.692Z"
   },
   {
    "duration": 4,
    "start_time": "2022-06-18T16:23:41.613Z"
   },
   {
    "duration": 5,
    "start_time": "2022-06-18T16:23:41.891Z"
   },
   {
    "duration": 7,
    "start_time": "2022-06-18T16:23:42.189Z"
   },
   {
    "duration": 3,
    "start_time": "2022-06-18T16:23:44.557Z"
   },
   {
    "duration": 29,
    "start_time": "2022-06-18T16:23:44.862Z"
   },
   {
    "duration": 193,
    "start_time": "2022-06-18T16:23:45.156Z"
   },
   {
    "duration": 688,
    "start_time": "2022-06-18T16:23:45.414Z"
   },
   {
    "duration": 209,
    "start_time": "2022-06-18T16:23:46.104Z"
   },
   {
    "duration": 48,
    "start_time": "2022-06-18T16:23:46.315Z"
   },
   {
    "duration": 54,
    "start_time": "2022-06-18T16:23:47.011Z"
   },
   {
    "duration": 1597,
    "start_time": "2022-06-18T16:23:52.870Z"
   },
   {
    "duration": 88,
    "start_time": "2022-06-18T16:25:03.945Z"
   },
   {
    "duration": 3,
    "start_time": "2022-06-18T16:53:57.782Z"
   },
   {
    "duration": 9,
    "start_time": "2022-06-18T16:54:03.888Z"
   },
   {
    "duration": 13,
    "start_time": "2022-06-18T16:54:17.717Z"
   },
   {
    "duration": 64,
    "start_time": "2022-06-18T16:54:29.192Z"
   },
   {
    "duration": 9,
    "start_time": "2022-06-18T16:54:29.580Z"
   },
   {
    "duration": 4,
    "start_time": "2022-06-18T16:54:30.397Z"
   },
   {
    "duration": 6,
    "start_time": "2022-06-18T16:54:30.575Z"
   },
   {
    "duration": 7,
    "start_time": "2022-06-18T16:54:30.751Z"
   },
   {
    "duration": 3,
    "start_time": "2022-06-18T16:54:31.682Z"
   },
   {
    "duration": 31,
    "start_time": "2022-06-18T16:54:31.881Z"
   },
   {
    "duration": 170,
    "start_time": "2022-06-18T16:54:32.103Z"
   },
   {
    "duration": 698,
    "start_time": "2022-06-18T16:54:32.366Z"
   },
   {
    "duration": 177,
    "start_time": "2022-06-18T16:54:33.066Z"
   },
   {
    "duration": 20,
    "start_time": "2022-06-18T16:54:33.246Z"
   },
   {
    "duration": 1355,
    "start_time": "2022-06-18T16:54:34.044Z"
   },
   {
    "duration": 39,
    "start_time": "2022-06-18T16:54:35.401Z"
   },
   {
    "duration": 7,
    "start_time": "2022-06-18T16:54:38.512Z"
   },
   {
    "duration": 30,
    "start_time": "2022-06-18T16:54:43.694Z"
   },
   {
    "duration": 5,
    "start_time": "2022-06-18T16:54:43.962Z"
   },
   {
    "duration": 7,
    "start_time": "2022-06-18T16:54:44.580Z"
   },
   {
    "duration": 6,
    "start_time": "2022-06-18T16:54:45.182Z"
   },
   {
    "duration": 15,
    "start_time": "2022-06-18T16:55:09.582Z"
   },
   {
    "duration": 3,
    "start_time": "2022-06-18T16:55:15.208Z"
   },
   {
    "duration": 4,
    "start_time": "2022-06-18T16:55:28.158Z"
   },
   {
    "duration": 8,
    "start_time": "2022-06-18T17:03:42.245Z"
   },
   {
    "duration": 4,
    "start_time": "2022-06-18T17:03:46.062Z"
   },
   {
    "duration": 8,
    "start_time": "2022-06-18T17:03:48.304Z"
   },
   {
    "duration": 18,
    "start_time": "2022-06-18T17:04:26.879Z"
   },
   {
    "duration": 19,
    "start_time": "2022-06-18T17:05:06.135Z"
   },
   {
    "duration": 18,
    "start_time": "2022-06-18T17:07:13.164Z"
   },
   {
    "duration": 11,
    "start_time": "2022-06-18T17:07:29.289Z"
   },
   {
    "duration": 7,
    "start_time": "2022-06-18T17:07:43.196Z"
   },
   {
    "duration": 9,
    "start_time": "2022-06-18T17:12:40.079Z"
   },
   {
    "duration": 4,
    "start_time": "2022-06-18T17:12:52.977Z"
   },
   {
    "duration": 6,
    "start_time": "2022-06-18T17:13:05.067Z"
   },
   {
    "duration": 4,
    "start_time": "2022-06-18T17:13:08.559Z"
   },
   {
    "duration": 7,
    "start_time": "2022-06-18T17:13:14.567Z"
   },
   {
    "duration": 6,
    "start_time": "2022-06-18T17:13:55.667Z"
   },
   {
    "duration": 17,
    "start_time": "2022-06-18T17:15:51.143Z"
   },
   {
    "duration": 23,
    "start_time": "2022-06-18T17:16:04.772Z"
   },
   {
    "duration": 11,
    "start_time": "2022-06-18T17:16:26.087Z"
   },
   {
    "duration": 8,
    "start_time": "2022-06-18T17:17:14.232Z"
   },
   {
    "duration": 7,
    "start_time": "2022-06-18T17:18:28.974Z"
   },
   {
    "duration": 25,
    "start_time": "2022-06-18T17:21:50.336Z"
   },
   {
    "duration": 33,
    "start_time": "2022-06-18T17:24:27.363Z"
   },
   {
    "duration": 1210,
    "start_time": "2022-06-19T07:00:54.597Z"
   },
   {
    "duration": 24,
    "start_time": "2022-06-19T07:00:55.811Z"
   },
   {
    "duration": 34,
    "start_time": "2022-06-19T07:00:55.837Z"
   },
   {
    "duration": 5,
    "start_time": "2022-06-19T07:00:55.874Z"
   },
   {
    "duration": 10,
    "start_time": "2022-06-19T07:00:55.881Z"
   },
   {
    "duration": 9,
    "start_time": "2022-06-19T07:00:55.892Z"
   },
   {
    "duration": 3,
    "start_time": "2022-06-19T07:00:55.903Z"
   },
   {
    "duration": 61,
    "start_time": "2022-06-19T07:00:55.907Z"
   },
   {
    "duration": 188,
    "start_time": "2022-06-19T07:00:55.970Z"
   },
   {
    "duration": 572,
    "start_time": "2022-06-19T07:00:56.161Z"
   },
   {
    "duration": 209,
    "start_time": "2022-06-19T07:00:56.735Z"
   },
   {
    "duration": 25,
    "start_time": "2022-06-19T07:00:56.946Z"
   },
   {
    "duration": 1454,
    "start_time": "2022-06-19T07:00:56.973Z"
   },
   {
    "duration": 59,
    "start_time": "2022-06-19T07:00:58.429Z"
   },
   {
    "duration": 8,
    "start_time": "2022-06-19T07:00:58.490Z"
   },
   {
    "duration": 12,
    "start_time": "2022-06-19T07:00:58.500Z"
   },
   {
    "duration": 6,
    "start_time": "2022-06-19T07:00:58.515Z"
   },
   {
    "duration": 36,
    "start_time": "2022-06-19T07:00:58.523Z"
   },
   {
    "duration": 9,
    "start_time": "2022-06-19T07:00:58.561Z"
   },
   {
    "duration": 10,
    "start_time": "2022-06-19T07:00:58.572Z"
   },
   {
    "duration": 18,
    "start_time": "2022-06-19T07:00:58.584Z"
   },
   {
    "duration": 18,
    "start_time": "2022-06-19T07:00:58.604Z"
   },
   {
    "duration": 14,
    "start_time": "2022-06-19T07:00:58.624Z"
   },
   {
    "duration": 1457,
    "start_time": "2022-06-19T07:02:31.556Z"
   },
   {
    "duration": 32,
    "start_time": "2022-06-19T07:02:33.016Z"
   },
   {
    "duration": 36,
    "start_time": "2022-06-19T07:02:33.050Z"
   },
   {
    "duration": 6,
    "start_time": "2022-06-19T07:02:33.089Z"
   },
   {
    "duration": 7,
    "start_time": "2022-06-19T07:02:33.098Z"
   },
   {
    "duration": 8,
    "start_time": "2022-06-19T07:02:33.107Z"
   },
   {
    "duration": 58,
    "start_time": "2022-06-19T07:02:33.118Z"
   },
   {
    "duration": 275,
    "start_time": "2022-06-19T07:02:33.178Z"
   },
   {
    "duration": 910,
    "start_time": "2022-06-19T07:02:33.454Z"
   },
   {
    "duration": 308,
    "start_time": "2022-06-19T07:02:34.366Z"
   },
   {
    "duration": 18,
    "start_time": "2022-06-19T07:02:34.676Z"
   },
   {
    "duration": 2363,
    "start_time": "2022-06-19T07:02:34.697Z"
   },
   {
    "duration": 40,
    "start_time": "2022-06-19T07:02:37.062Z"
   },
   {
    "duration": 7,
    "start_time": "2022-06-19T07:02:37.105Z"
   },
   {
    "duration": 43,
    "start_time": "2022-06-19T07:02:37.114Z"
   },
   {
    "duration": 23,
    "start_time": "2022-06-19T07:02:37.159Z"
   },
   {
    "duration": 14,
    "start_time": "2022-06-19T07:02:37.183Z"
   },
   {
    "duration": 18,
    "start_time": "2022-06-19T07:02:37.200Z"
   },
   {
    "duration": 54,
    "start_time": "2022-06-19T07:02:37.220Z"
   },
   {
    "duration": 39,
    "start_time": "2022-06-19T07:02:37.276Z"
   },
   {
    "duration": 23,
    "start_time": "2022-06-19T07:02:37.317Z"
   },
   {
    "duration": 19,
    "start_time": "2022-06-19T07:02:37.342Z"
   }
  ],
  "kernelspec": {
   "display_name": "Python 3",
   "language": "python",
   "name": "python3"
  },
  "language_info": {
   "codemirror_mode": {
    "name": "ipython",
    "version": 3
   },
   "file_extension": ".py",
   "mimetype": "text/x-python",
   "name": "python",
   "nbconvert_exporter": "python",
   "pygments_lexer": "ipython3",
   "version": "3.8.8"
  },
  "toc": {
   "base_numbering": 1,
   "nav_menu": {},
   "number_sections": true,
   "sideBar": true,
   "skip_h1_title": true,
   "title_cell": "Table of Contents",
   "title_sidebar": "Contents",
   "toc_cell": false,
   "toc_position": {},
   "toc_section_display": true,
   "toc_window_display": true
  }
 },
 "nbformat": 4,
 "nbformat_minor": 2
}
